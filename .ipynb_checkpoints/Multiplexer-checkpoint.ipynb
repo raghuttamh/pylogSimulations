{
 "cells": [
  {
   "cell_type": "code",
   "execution_count": 1,
   "metadata": {},
   "outputs": [],
   "source": [
    "import inputComboMaker as icm\n",
    "import postWorks as pw"
   ]
  },
  {
   "cell_type": "markdown",
   "metadata": {},
   "source": [
    "The DISIGN CODE MUST BE PUT HERE\n",
    "\n",
    "and the output taken out will be a list or list of lists"
   ]
  },
  {
   "cell_type": "code",
   "execution_count": 2,
   "metadata": {},
   "outputs": [],
   "source": [
    "\n",
    "def design(a,b,c):\n",
    "    return a^b^c"
   ]
  },
  {
   "cell_type": "markdown",
   "metadata": {},
   "source": [
    "Simulation begins next"
   ]
  },
  {
   "cell_type": "code",
   "execution_count": 3,
   "metadata": {},
   "outputs": [],
   "source": [
    "#simulation\n",
    "a,b,c=icm.comboMatrixMaker(3)\n",
    "y=design(a,b,c)\n"
   ]
  },
  {
   "cell_type": "code",
   "execution_count": 6,
   "metadata": {},
   "outputs": [],
   "source": [
    "import wavedrom\n",
    "import json\n",
    "\n",
    "variables=[a,b,c,y]\n",
    "\n",
    "#Some backend work to be done to make the lists of inputs and outputs into string as WAVEDROM needs strings\n",
    "for x in range(len(variables)):\n",
    "    variables[x]=pw.backToStrConvert(variables[x])\n",
    "    variables[x]=pw.nonRepeat(variables[x])\n",
    "    \n",
    "\n",
    "dump={'signal':[\n",
    "        {'name':'a','wave':variables[0]},\n",
    "        {'name':'b','wave':variables[1]},\n",
    "         {'name':'c','wave':variables[2]},\n",
    "        {'name':'y','wave':variables[3]}\n",
    "\n",
    "]}\n",
    "dump=json.dumps(dump)\n",
    "svg = wavedrom.render(dump)\n",
    "svg.saveas('xorGate.svg')"
   ]
  },
  {
   "cell_type": "code",
   "execution_count": null,
   "metadata": {},
   "outputs": [],
   "source": []
  }
 ],
 "metadata": {
  "kernelspec": {
   "display_name": "Python 3",
   "language": "python",
   "name": "python3"
  },
  "language_info": {
   "codemirror_mode": {
    "name": "ipython",
    "version": 3
   },
   "file_extension": ".py",
   "mimetype": "text/x-python",
   "name": "python",
   "nbconvert_exporter": "python",
   "pygments_lexer": "ipython3",
   "version": "3.7.4"
  }
 },
 "nbformat": 4,
 "nbformat_minor": 2
}
